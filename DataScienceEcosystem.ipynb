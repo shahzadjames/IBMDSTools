{
 "cells": [
  {
   "cell_type": "markdown",
   "id": "e6c4f300-2803-4b42-b53c-dce658e2a872",
   "metadata": {},
   "source": [
    "# Data Science Tools and Ecosystem"
   ]
  },
  {
   "cell_type": "markdown",
   "id": "1512471a-7dad-4fbc-b6e4-3a6a867dc3fb",
   "metadata": {},
   "source": [
    "#### In this notebook, Data Science Tools and Ecosystem are summarized."
   ]
  },
  {
   "cell_type": "markdown",
   "id": "d548ccde-46ff-4ba6-8c57-d0a334a6c3c7",
   "metadata": {
    "tags": []
   },
   "source": [
    "*Objectives:*\n",
    "- Popular Languages used in Data science\n",
    "- Popular Data science libraries\n",
    "- Creating and sharing notebooks"
   ]
  },
  {
   "cell_type": "markdown",
   "id": "2f378a68-1576-477a-b1d5-cd3691f5a4bf",
   "metadata": {},
   "source": [
    "##### Some of the popular languages that Data Scientists use are:\n",
    "1. Python\n",
    "2. R\n",
    "3. Julia"
   ]
  },
  {
   "cell_type": "markdown",
   "id": "38d56458-b9fb-4060-b1b1-26357bf22bbf",
   "metadata": {
    "tags": []
   },
   "source": [
    "##### Some of the commonly used libraries used by Data Scientists include:\n",
    "- Pandas\n",
    "- tensor-Flow\n",
    "- Seaborn"
   ]
  },
  {
   "cell_type": "markdown",
   "id": "924695f5-30bf-4580-8656-22cad2b54f94",
   "metadata": {
    "tags": []
   },
   "source": [
    "|Data Science Tools|\n",
    "|------------------|\n",
    "|RStudio|\n",
    "|JupyterLab|\n",
    "|Watson Studio|"
   ]
  },
  {
   "cell_type": "markdown",
   "id": "a9f26492-07c5-4cee-beee-5799f6d02ad2",
   "metadata": {},
   "source": [
    "### Below are a few examples of evaluating arithmetic expressions in Python"
   ]
  },
  {
   "cell_type": "code",
   "execution_count": 6,
   "id": "ddd50459-682e-45a5-a1a6-b258713ae19e",
   "metadata": {
    "tags": []
   },
   "outputs": [
    {
     "data": {
      "text/plain": [
       "17"
      ]
     },
     "execution_count": 6,
     "metadata": {},
     "output_type": "execute_result"
    }
   ],
   "source": [
    "(3*4)+5"
   ]
  },
  {
   "cell_type": "code",
   "execution_count": 9,
   "id": "4e105945-f60a-4a64-b774-b71e6bea5f21",
   "metadata": {
    "tags": []
   },
   "outputs": [
    {
     "data": {
      "text/plain": [
       "3.3333333333333335"
      ]
     },
     "execution_count": 9,
     "metadata": {},
     "output_type": "execute_result"
    }
   ],
   "source": [
    "#This will convert 200 minutes to hours by diving by 60.\n",
    "200/60"
   ]
  },
  {
   "cell_type": "markdown",
   "id": "6991a5fc-f41d-4982-84e8-3e7c52120256",
   "metadata": {},
   "source": [
    "## Author\n",
    "Shahzad James"
   ]
  },
  {
   "cell_type": "code",
   "execution_count": null,
   "id": "a9c29270-4cbe-40cf-9838-b09749fa56ef",
   "metadata": {},
   "outputs": [],
   "source": []
  }
 ],
 "metadata": {
  "kernelspec": {
   "display_name": "Python 3 (ipykernel)",
   "language": "python",
   "name": "python3"
  },
  "language_info": {
   "codemirror_mode": {
    "name": "ipython",
    "version": 3
   },
   "file_extension": ".py",
   "mimetype": "text/x-python",
   "name": "python",
   "nbconvert_exporter": "python",
   "pygments_lexer": "ipython3",
   "version": "3.11.5"
  }
 },
 "nbformat": 4,
 "nbformat_minor": 5
}
